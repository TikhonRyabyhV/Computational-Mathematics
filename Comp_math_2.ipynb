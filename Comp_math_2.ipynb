{
 "cells": [
  {
   "cell_type": "markdown",
   "id": "a2a82a78-b491-4c5d-85cc-eff169af386f",
   "metadata": {},
   "source": [
    "# Лабораторная работа №2 Решение СЛАУ\n",
    "Надо решить систему алгебраических линейных уравнений, заданную в виде:\n",
    "$ A x = b, $ где:\n"
   ]
  },
  {
   "cell_type": "markdown",
   "id": "92a1380e-6a00-42d8-aafe-bcfaa1426c0d",
   "metadata": {},
   "source": [
    "$ a_{ii} = 1.0, \\: \\forall i \\in 1,..n \\qquad a_{ij} = \\frac{1}{i + j}, \\: i \\neq j  \\qquad b = \\frac{1}{i}, \\: \\forall i \\in 1,..n $"
   ]
  },
  {
   "cell_type": "markdown",
   "id": "6e7cec9c-588d-4178-bd8d-d2684e7c4543",
   "metadata": {},
   "source": [
    "Также заранее оговорим, что под нормой вектора в этой работе будет подразумеваться евклидова норма."
   ]
  },
  {
   "cell_type": "code",
   "execution_count": 1,
   "id": "e826eb81-b6b1-4f67-82c8-4b45fef210ac",
   "metadata": {},
   "outputs": [],
   "source": [
    "import numpy as np\n",
    "import matplotlib.pyplot as plt\n",
    "# ---------- constants ----------\n",
    "n = 10\n",
    "steps = 30\n",
    "epsilon = 0.0001\n",
    "# -------------------------------\n",
    "\n",
    "# ---------- helpful functions ----------\n",
    "def print_matrix(name, A, n, m):\n",
    "    print(\"\\n\", \"Matrix\", name, \"(\", n, \"x\", m, \"):\")\n",
    "    \n",
    "    for i in range(n):\n",
    "        print(\"||\", end = ' ')\n",
    "        for j in range(m):\n",
    "            if(is_zero(A[i][j]) >= 0):\n",
    "                print(\" \", end = '')\n",
    "            print(format(is_zero(A[i][j]), '5.3f'), end = ' ')\n",
    "        print(\"||\")\n",
    "    \n",
    "    print(\"\\n\")\n",
    "    \n",
    "    return\n",
    "\n",
    "def is_zero (num):\n",
    "    if(np.abs(num) < epsilon):\n",
    "        return 0.0\n",
    "    else:\n",
    "        return num\n",
    "\n",
    "def vec_norm (v, n):\n",
    "    res = 0.0\n",
    "    for i in range(n):\n",
    "        res = res + v[i] ** 2\n",
    "    res = res ** (0.5)\n",
    "    return res\n",
    "\n",
    "def matrix_dot (A, x, n):\n",
    "    res = np.zeros((n, 1))\n",
    "    for i in range(n):\n",
    "        for j in range(n):\n",
    "            res[i] += A[i][j] * x[j]\n",
    "\n",
    "    return res\n",
    "\n",
    "def skalar_dot (a, b, n):\n",
    "    res = 0.0\n",
    "    for i in range(n):\n",
    "        res += a[i] * b[i]\n",
    "\n",
    "    return res\n",
    "# ------------------------------------"
   ]
  },
  {
   "cell_type": "markdown",
   "id": "f7e20f07-2c03-497b-8909-734288feac4a",
   "metadata": {},
   "source": [
    "Инициализируем наши матрицу и вектор:"
   ]
  },
  {
   "cell_type": "code",
   "execution_count": 2,
   "id": "71ccbdd7-0f27-474a-8a73-6d1b450b13f4",
   "metadata": {},
   "outputs": [
    {
     "name": "stdout",
     "output_type": "stream",
     "text": [
      "\n",
      " Matrix A ( 10 x 10 ):\n",
      "||  1.000  0.333  0.250  0.200  0.167  0.143  0.125  0.111  0.100  0.091 ||\n",
      "||  0.333  1.000  0.200  0.167  0.143  0.125  0.111  0.100  0.091  0.083 ||\n",
      "||  0.250  0.200  1.000  0.143  0.125  0.111  0.100  0.091  0.083  0.077 ||\n",
      "||  0.200  0.167  0.143  1.000  0.111  0.100  0.091  0.083  0.077  0.071 ||\n",
      "||  0.167  0.143  0.125  0.111  1.000  0.091  0.083  0.077  0.071  0.067 ||\n",
      "||  0.143  0.125  0.111  0.100  0.091  1.000  0.077  0.071  0.067  0.062 ||\n",
      "||  0.125  0.111  0.100  0.091  0.083  0.077  1.000  0.067  0.062  0.059 ||\n",
      "||  0.111  0.100  0.091  0.083  0.077  0.071  0.067  1.000  0.059  0.056 ||\n",
      "||  0.100  0.091  0.083  0.077  0.071  0.067  0.062  0.059  1.000  0.053 ||\n",
      "||  0.091  0.083  0.077  0.071  0.067  0.062  0.059  0.056  0.053  1.000 ||\n",
      "\n",
      "\n",
      "detA =  0.6358800605430553\n",
      "\n",
      " Matrix b ( 10 x 1 ):\n",
      "||  1.000 ||\n",
      "||  0.500 ||\n",
      "||  0.333 ||\n",
      "||  0.250 ||\n",
      "||  0.200 ||\n",
      "||  0.167 ||\n",
      "||  0.143 ||\n",
      "||  0.125 ||\n",
      "||  0.111 ||\n",
      "||  0.100 ||\n",
      "\n",
      "\n"
     ]
    }
   ],
   "source": [
    "# ---------- imput matrix initialization -----------\n",
    "I = np.zeros((n, n))\n",
    "for i in range(n):\n",
    "   for j in range(n):\n",
    "        if(i == j):\n",
    "            I[i][j] = 1.0\n",
    "        else:\n",
    "            I[i][j] = 1.0 / (i + j + 2)\n",
    "# --------------------------------------------------\n",
    "\n",
    "# ---------- input vector initialization ----------\n",
    "f = np.zeros((n, 1))\n",
    "for i in range(n):\n",
    "    f[i] = 1.0 / (i + 1)\n",
    "# --------------------------------------------------\n",
    "\n",
    "A = I\n",
    "b = f\n",
    "\n",
    "detA = np.linalg.det(A)\n",
    "\n",
    "print_matrix(\"A\", A, n, n)\n",
    "print(\"detA = \", detA)\n",
    "print_matrix(\"b\", b, n, 1)\n",
    "# ------------------------------------------"
   ]
  },
  {
   "cell_type": "markdown",
   "id": "9b0d406d-543c-41b1-9159-84236a70e3ab",
   "metadata": {},
   "source": [
    "Начнем с прямых методов: метода Гаусса с выбором главного элемента и LU-разложения."
   ]
  },
  {
   "cell_type": "markdown",
   "id": "ff8c35ed-2fca-4df2-b70a-de5e231e1d0e",
   "metadata": {},
   "source": [
    "Метод Гаусса:"
   ]
  },
  {
   "cell_type": "code",
   "execution_count": 3,
   "id": "dedfcb36-0fef-4fbe-bfd6-3bfe0744ba2a",
   "metadata": {},
   "outputs": [
    {
     "name": "stdout",
     "output_type": "stream",
     "text": [
      "\n",
      " Matrix x_gauss ( 10 x 1 ):\n",
      "||  0.919 ||\n",
      "||  0.176 ||\n",
      "||  0.064 ||\n",
      "||  0.027 ||\n",
      "||  0.011 ||\n",
      "||  0.004 ||\n",
      "|| -0.001 ||\n",
      "|| -0.003 ||\n",
      "|| -0.005 ||\n",
      "|| -0.006 ||\n",
      "\n",
      "\n",
      "Gauss residual: [2.34694688e-16]\n"
     ]
    }
   ],
   "source": [
    "x_inter = np.zeros(n)\n",
    "matrix  = np.zeros((n, n + 1))\n",
    "\n",
    "for i in range(n):\n",
    "    for j in range(n):\n",
    "        matrix[i][j] = A[i][j]\n",
    "    matrix[i][n] = b[i]\n",
    "\n",
    "for i in range(n):\n",
    "        max_row = i + np.argmax(np.abs(matrix[i:, i]))\n",
    "        matrix[[i, max_row]] = matrix[[max_row, i]]\n",
    "\n",
    "        for j in range(i + 1, n):\n",
    "            factor = matrix[j][i] / matrix[i][i]\n",
    "            matrix[j] = matrix[j] - factor * matrix[i]\n",
    "\n",
    "for i in range(n - 1, -1, -1):\n",
    "    x_inter[i] = (matrix[i][-1] - np.dot(matrix[i][i + 1:n], x_inter[i + 1:n])) / matrix[i][i]\n",
    "\n",
    "x_gauss = np.zeros((n, 1))\n",
    "\n",
    "for i in range(n):\n",
    "    x_gauss[i] = x_inter[i]\n",
    "\n",
    "print_matrix(\"x_gauss\", x_gauss, n, 1)\n",
    "print(\"Gauss residual:\", vec_norm(matrix_dot(A, x_gauss, n) - b, n) )"
   ]
  },
  {
   "cell_type": "markdown",
   "id": "98aefc8f-490e-44b9-94ba-aff776cbc9b2",
   "metadata": {},
   "source": [
    "LU-разложение:"
   ]
  },
  {
   "cell_type": "code",
   "execution_count": 4,
   "id": "30ed8b50-6b3e-4752-8c68-6621d00cd07a",
   "metadata": {},
   "outputs": [
    {
     "name": "stdout",
     "output_type": "stream",
     "text": [
      "\n",
      " Matrix L ( 10 x 10 ):\n",
      "||  1.000  0.000  0.000  0.000  0.000  0.000  0.000  0.000  0.000  0.000 ||\n",
      "||  0.333  1.000  0.000  0.000  0.000  0.000  0.000  0.000  0.000  0.000 ||\n",
      "||  0.250  0.131  1.000  0.000  0.000  0.000  0.000  0.000  0.000  0.000 ||\n",
      "||  0.200  0.113  0.086  1.000  0.000  0.000  0.000  0.000  0.000  0.000 ||\n",
      "||  0.167  0.098  0.078  0.066  1.000  0.000  0.000  0.000  0.000  0.000 ||\n",
      "||  0.143  0.087  0.071  0.061  0.053  1.000  0.000  0.000  0.000  0.000 ||\n",
      "||  0.125  0.078  0.065  0.056  0.050  0.045  1.000  0.000  0.000  0.000 ||\n",
      "||  0.111  0.071  0.059  0.052  0.047  0.042  0.039  1.000  0.000  0.000 ||\n",
      "||  0.100  0.065  0.055  0.049  0.044  0.040  0.037  0.034  1.000  0.000 ||\n",
      "||  0.091  0.060  0.051  0.046  0.042  0.038  0.035  0.033  0.031  1.000 ||\n",
      "\n",
      "\n",
      "\n",
      " Matrix U ( 10 x 10 ):\n",
      "||  1.000  0.333  0.250  0.200  0.167  0.143  0.125  0.111  0.100  0.091 ||\n",
      "||  0.000  0.889  0.117  0.100  0.087  0.077  0.069  0.063  0.058  0.053 ||\n",
      "||  0.000  0.000  0.922  0.080  0.072  0.065  0.060  0.055  0.051  0.047 ||\n",
      "||  0.000  0.000  0.000  0.942  0.062  0.057  0.053  0.049  0.046  0.043 ||\n",
      "||  0.000  0.000  0.000  0.000  0.954  0.051  0.048  0.045  0.042  0.040 ||\n",
      "||  0.000  0.000  0.000  0.000  0.000  0.962  0.043  0.041  0.039  0.037 ||\n",
      "||  0.000  0.000  0.000  0.000  0.000  0.000  0.968  0.037  0.036  0.034 ||\n",
      "||  0.000  0.000  0.000  0.000  0.000  0.000  0.000  0.972  0.033  0.032 ||\n",
      "||  0.000  0.000  0.000  0.000  0.000  0.000  0.000  0.000  0.975  0.030 ||\n",
      "||  0.000  0.000  0.000  0.000  0.000  0.000  0.000  0.000  0.000  0.978 ||\n",
      "\n",
      "\n",
      "\n",
      " Matrix x_lu ( 10 x 1 ):\n",
      "||  0.927 ||\n",
      "||  0.176 ||\n",
      "||  0.064 ||\n",
      "||  0.027 ||\n",
      "||  0.011 ||\n",
      "||  0.003 ||\n",
      "|| -0.001 ||\n",
      "|| -0.003 ||\n",
      "|| -0.005 ||\n",
      "|| -0.006 ||\n",
      "\n",
      "\n",
      "LU residual: [0.00971696]\n"
     ]
    }
   ],
   "source": [
    "# ----------- funcs for LU-decomposition ----------\n",
    "def LU_sum (L, U, i, j, max):\n",
    "    res = 0.0\n",
    "    for k in range(max):\n",
    "        res = res + L[i][k] * U[k][j]\n",
    "    return res\n",
    "\n",
    "def L_sum (L, y, i, max):\n",
    "    res = 0.0\n",
    "    for p in range(max):\n",
    "        res = res + L[i][p] * y[p]\n",
    "    return res\n",
    "\n",
    "def U_sum (U, x, n, i, min):\n",
    "    res = 0.0\n",
    "    for p in range(min, n):\n",
    "        res = res + U[i][p] * x[p]\n",
    "    return res\n",
    "# --------------------------------------------------\n",
    "\n",
    "L = np.eye(n)\n",
    "U = np.zeros((n, n))\n",
    "\n",
    "for i in range(n):\n",
    "    for j in range(n):\n",
    "        if(i <= j):\n",
    "            U[i][j] = A[i][j] - LU_sum(L, U, i, j, i)\n",
    "        if(i > j):\n",
    "            L[i][j] = (A[i][j] - LU_sum(L, U, i, j, j)) / U[j][j]\n",
    "\n",
    "print_matrix(\"L\", L, n, n)\n",
    "print_matrix(\"U\", U, n, n)\n",
    "\n",
    "\n",
    "# ---------- solving Ly = b ----------\n",
    "y = np.zeros((n, 1))\n",
    "\n",
    "for i in range(n):\n",
    "    y[i] = b[i] - L_sum(L, y, i, i)\n",
    "# ------------------------------------\n",
    "\n",
    "# ---------- solving Ux = y ----------\n",
    "x_lu = np.zeros((n, 1))\n",
    "\n",
    "for i in range(n - 1, -1, -1):\n",
    "    x_lu[i] = y[i] - U_sum(U, x_lu, n, i, i + 1)\n",
    "\n",
    "for i in range(n):\n",
    "    x_lu[i] /= U[i][i]\n",
    "# ------------------------------------\n",
    "\n",
    "print_matrix(\"x_lu\", x_lu, n, 1)\n",
    "print(\"LU residual:\", vec_norm(matrix_dot(A, x_lu, n) - b, n) )"
   ]
  },
  {
   "cell_type": "markdown",
   "id": "c62d9532-d6e2-404c-a265-22eeb61a18a6",
   "metadata": {},
   "source": [
    "Перейдем к методам простой итерации. Их представляют методы Якоби и Зейделя."
   ]
  },
  {
   "cell_type": "markdown",
   "id": "583f19fd-ecb2-4f05-908c-8f0847d4bc6a",
   "metadata": {},
   "source": [
    "Метод Якоби:"
   ]
  },
  {
   "cell_type": "code",
   "execution_count": 5,
   "id": "0ce7deed-7783-4154-8366-1049a3f2502d",
   "metadata": {},
   "outputs": [
    {
     "name": "stdout",
     "output_type": "stream",
     "text": [
      "\n",
      " Matrix x_yak ( 10 x 1 ):\n",
      "||  0.919 ||\n",
      "||  0.176 ||\n",
      "||  0.064 ||\n",
      "||  0.027 ||\n",
      "||  0.011 ||\n",
      "||  0.004 ||\n",
      "|| -0.001 ||\n",
      "|| -0.003 ||\n",
      "|| -0.005 ||\n",
      "|| -0.006 ||\n",
      "\n",
      "\n",
      "Yakobi residual: [2.2887834e-16]\n"
     ]
    }
   ],
   "source": [
    "def Yak_sum (A, x, n, i):\n",
    "    res = 0.0\n",
    "    for j in range(n):\n",
    "        if(j != i):\n",
    "            res = res + A[i][j] * x[j]\n",
    "\n",
    "    return res\n",
    "\n",
    "cnt_yak = 0\n",
    "resid_yak  = np.zeros(steps)\n",
    "x_prev_yak = np.ones ((n, 1))\n",
    "x_next_yak = np.zeros((n, 1))\n",
    "\n",
    "while (cnt_yak < steps):\n",
    "    for i in range(n):\n",
    "        x_next_yak[i] = (b[i] - Yak_sum(A, x_prev_yak, n, i)) / A[i][i]\n",
    "\n",
    "    x_prev_yak = x_next_yak\n",
    "    resid_yak[cnt_yak] = vec_norm(matrix_dot(A, x_next_yak, n) - b, n)\n",
    "    cnt_yak += 1\n",
    "\n",
    "print_matrix(\"x_yak\", x_next_yak, n, 1)\n",
    "print(\"Yakobi residual:\", vec_norm(matrix_dot(A, x_next_yak, n) - b, n) )"
   ]
  },
  {
   "cell_type": "markdown",
   "id": "0ab1dda0-ee27-479b-9a9a-2cf52d64f4ea",
   "metadata": {},
   "source": [
    "Метод Зейделя:"
   ]
  },
  {
   "cell_type": "code",
   "execution_count": 6,
   "id": "faa563fc-06bb-4378-a422-82a5bf80cda4",
   "metadata": {},
   "outputs": [
    {
     "name": "stdout",
     "output_type": "stream",
     "text": [
      "\n",
      " Matrix x_zeid ( 10 x 1 ):\n",
      "||  0.919 ||\n",
      "||  0.176 ||\n",
      "||  0.064 ||\n",
      "||  0.027 ||\n",
      "||  0.011 ||\n",
      "||  0.004 ||\n",
      "|| -0.001 ||\n",
      "|| -0.003 ||\n",
      "|| -0.005 ||\n",
      "|| -0.006 ||\n",
      "\n",
      "\n",
      "Zeidel residual: [9.61481343e-17]\n"
     ]
    }
   ],
   "source": [
    "def Zeid_sum_prev (A, x, n, i):\n",
    "    res = 0.0\n",
    "    for j in range(i + 1, n):\n",
    "        res = res + A[i][j] * x[j]\n",
    "\n",
    "    return res\n",
    "\n",
    "def Zeid_sum_next (A, x, i):\n",
    "    res = 0.0\n",
    "    for j in range(i):\n",
    "        res = res + A[i][j] * x[j]\n",
    "\n",
    "    return res\n",
    "\n",
    "\n",
    "cnt_zeid = 0\n",
    "resid_zeid = np.zeros(steps)\n",
    "x_prev_zeid = np.ones ((n, 1))\n",
    "x_next_zeid = np.zeros((n, 1))\n",
    "\n",
    "while (cnt_zeid < steps):\n",
    "    for i in range(n):\n",
    "        x_next_zeid[i] = (b[i] - Zeid_sum_next(A, x_next_zeid, i) - Zeid_sum_prev(A, x_prev_zeid, n, i)) / A[i][i]\n",
    "\n",
    "    x_prev_zeid = x_next_zeid\n",
    "    resid_zeid[cnt_zeid] = vec_norm(matrix_dot(A, x_next_zeid, n) - b, n)\n",
    "    cnt_zeid += 1\n",
    "\n",
    "print_matrix(\"x_zeid\", x_next_zeid, n, 1)\n",
    "print(\"Zeidel residual:\", vec_norm(matrix_dot(A, x_next_zeid, n) - b, n) )"
   ]
  },
  {
   "cell_type": "markdown",
   "id": "8d92d5c1-89d3-4316-a31b-885437d65633",
   "metadata": {},
   "source": [
    "Ранее МПИ были без параметра. Теперь рассмотрим однопараметрический метод - метод верхней релаксации:"
   ]
  },
  {
   "cell_type": "code",
   "execution_count": 7,
   "id": "eb19a862-e672-45d3-abcd-2ad57b05ea07",
   "metadata": {},
   "outputs": [
    {
     "name": "stdout",
     "output_type": "stream",
     "text": [
      "\n",
      " Matrix x_relax ( 10 x 1 ):\n",
      "||  0.919 ||\n",
      "||  0.176 ||\n",
      "||  0.064 ||\n",
      "||  0.027 ||\n",
      "||  0.011 ||\n",
      "||  0.004 ||\n",
      "|| -0.001 ||\n",
      "|| -0.003 ||\n",
      "|| -0.005 ||\n",
      "|| -0.006 ||\n",
      "\n",
      "\n",
      "Relax residual: [9.61481343e-17]\n"
     ]
    }
   ],
   "source": [
    "def Relax_sum_prev (A, x, n, i):\n",
    "    res = 0.0\n",
    "    for j in range(i + 1, n):\n",
    "        res = res + A[i][j] * x[j]\n",
    "\n",
    "    return res\n",
    "\n",
    "def Relax_sum_next (A, x, i):\n",
    "    res = 0.0\n",
    "    for j in range(i):\n",
    "        res = res + A[i][j] * x[j]\n",
    "\n",
    "    return res\n",
    "\n",
    "omega = 0.9\n",
    "cnt_relax = 0\n",
    "resid_relax = np.zeros(steps)\n",
    "x_prev_relax = np.ones ((n, 1))\n",
    "x_next_relax = np.zeros((n, 1))\n",
    "\n",
    "while (cnt_relax < steps):\n",
    "    for i in range(n):\n",
    "        x_next_relax[i] = (1 - omega) * x_prev_relax[i] + omega * (b[i] - Relax_sum_next(A, x_next_relax, i) - Relax_sum_prev(A, x_prev_relax, n, i)) / A[i][i]\n",
    "\n",
    "    x_prev_relax = x_next_relax\n",
    "    resid_relax[cnt_relax] = vec_norm(matrix_dot(A, x_next_relax, n) - b, n)\n",
    "    cnt_relax += 1\n",
    "\n",
    "print_matrix(\"x_relax\", x_next_relax, n, 1)\n",
    "print(\"Relax residual:\", vec_norm(matrix_dot(A, x_next_relax, n) - b, n) )"
   ]
  },
  {
   "cell_type": "markdown",
   "id": "1459d877-7842-41b7-b058-a59c8c373e9c",
   "metadata": {},
   "source": [
    "Перейдем к вариационным итерационным методам, основанным на поиске экстремума энергетического функционала. Первый из них - метод градиентного спуска - представлен ниже:"
   ]
  },
  {
   "cell_type": "code",
   "execution_count": 8,
   "id": "9c0649f7-29ec-4273-b2a2-b5e03d8128c9",
   "metadata": {},
   "outputs": [
    {
     "name": "stdout",
     "output_type": "stream",
     "text": [
      "\n",
      " Matrix x_down ( 10 x 1 ):\n",
      "||  0.919 ||\n",
      "||  0.176 ||\n",
      "||  0.064 ||\n",
      "||  0.027 ||\n",
      "||  0.011 ||\n",
      "||  0.004 ||\n",
      "|| -0.001 ||\n",
      "|| -0.003 ||\n",
      "|| -0.005 ||\n",
      "|| -0.006 ||\n",
      "\n",
      "\n",
      "Grad down residual: [2.72976995e-11]\n"
     ]
    }
   ],
   "source": [
    "cnt_down = 0\n",
    "resid_down = np.zeros(steps)\n",
    "tau = 0.0\n",
    "\n",
    "r_down = np.zeros((n, 1))\n",
    "\n",
    "x_prev_down = np.ones((n, 1))\n",
    "x_next_down = np.zeros((n, 1))\n",
    "\n",
    "\n",
    "while (cnt_down < steps):\n",
    "    r_down = b - matrix_dot(A, x_prev_down, n)\n",
    "\n",
    "    tau = skalar_dot( r_down, r_down, n) / (skalar_dot(matrix_dot(A, r_down, n), r_down, n))\n",
    "\n",
    "    x_next_down = x_prev_down + tau * r_down\n",
    "\n",
    "    resid_down[cnt_down] = vec_norm(matrix_dot(A, x_next_down, n) - b, n)\n",
    "    cnt_down += 1\n",
    "\n",
    "    x_prev_down = x_next_down\n",
    "\n",
    "print_matrix(\"x_down\", x_next_down, n, 1)\n",
    "print(\"Grad down residual:\", vec_norm(matrix_dot(A, x_next_down, n) - b, n) )"
   ]
  },
  {
   "cell_type": "markdown",
   "id": "55a255e2-6b0b-46c7-a862-79a0289f7a39",
   "metadata": {},
   "source": [
    "Далее метод сопряженных градиентов:"
   ]
  },
  {
   "cell_type": "code",
   "execution_count": 9,
   "id": "9db9aa0b-7357-495f-abeb-da0eb5c992e9",
   "metadata": {},
   "outputs": [
    {
     "name": "stdout",
     "output_type": "stream",
     "text": [
      "\n",
      " Matrix x_grad ( 10 x 1 ):\n",
      "||  0.919 ||\n",
      "||  0.176 ||\n",
      "||  0.064 ||\n",
      "||  0.027 ||\n",
      "||  0.011 ||\n",
      "||  0.004 ||\n",
      "|| -0.001 ||\n",
      "|| -0.003 ||\n",
      "|| -0.005 ||\n",
      "|| -0.006 ||\n",
      "\n",
      "\n",
      "Grad residual: [1.11886302e-15]\n"
     ]
    }
   ],
   "source": [
    "cnt_grad = 0\n",
    "resid_grad = np.zeros(steps)\n",
    "alpha    = 0.0\n",
    "\n",
    "r_prev_grad = np.zeros((n, 1))\n",
    "r_next_grad = np.zeros((n, 1))\n",
    "\n",
    "x_prev_grad = np.ones((n, 1))\n",
    "x_next_grad = np.zeros((n, 1))\n",
    "\n",
    "z_prev_grad = np.zeros((n, 1))\n",
    "z_next_grad = np.zeros((n, 1))\n",
    "\n",
    "r_prev_grad = b - matrix_dot(A, x_prev_grad, n)\n",
    "z_prev_grad = r_prev_grad\n",
    "\n",
    "while (cnt_grad < steps):\n",
    "    alpha = skalar_dot(r_prev_grad, r_prev_grad, n) / (skalar_dot(matrix_dot(A, z_prev_grad, n), z_prev_grad, n))\n",
    "\n",
    "    x_next_grad = x_prev_grad + alpha * z_prev_grad\n",
    "\n",
    "    r_next_grad = r_prev_grad - alpha * matrix_dot(A, z_prev_grad, n)\n",
    "\n",
    "    z_next_grad = r_next_grad + (skalar_dot(r_next_grad, r_next_grad, n) / skalar_dot(r_prev_grad, r_prev_grad, n)) * z_prev_grad \n",
    "\n",
    "    resid_grad[cnt_grad] = vec_norm(matrix_dot(A, x_next_grad, n) - b, n)\n",
    "    cnt_grad += 1\n",
    "\n",
    "    r_prev_grad = r_next_grad\n",
    "    x_prev_grad = x_next_grad\n",
    "    z_prev_grad = z_next_grad\n",
    "\n",
    "print_matrix(\"x_grad\", x_next_grad, n, 1)\n",
    "print(\"Grad residual:\", vec_norm(matrix_dot(A, x_next_grad, n) - b, n) )"
   ]
  },
  {
   "cell_type": "markdown",
   "id": "deaa7d90-b256-433a-9595-eff3f461c63c",
   "metadata": {},
   "source": [
    "Наконец, метод минимальных невязок:"
   ]
  },
  {
   "cell_type": "code",
   "execution_count": 10,
   "id": "c7771388-cad0-41b7-988f-c2c20ffef127",
   "metadata": {},
   "outputs": [
    {
     "name": "stdout",
     "output_type": "stream",
     "text": [
      "\n",
      " Matrix x_min_res ( 10 x 1 ):\n",
      "||  0.919 ||\n",
      "||  0.176 ||\n",
      "||  0.064 ||\n",
      "||  0.027 ||\n",
      "||  0.011 ||\n",
      "||  0.004 ||\n",
      "|| -0.001 ||\n",
      "|| -0.003 ||\n",
      "|| -0.005 ||\n",
      "|| -0.006 ||\n",
      "\n",
      "\n",
      "MINRES residual: [1.08237063e-10]\n"
     ]
    }
   ],
   "source": [
    "cnt_min_res = 0\n",
    "resid_min_res = np.zeros(steps)\n",
    "tau = 0.0\n",
    "\n",
    "r_min_res = np.zeros((n, 1))\n",
    "\n",
    "x_prev_min_res = np.ones((n, 1))\n",
    "x_next_min_res = np.zeros((n, 1))\n",
    "\n",
    "\n",
    "while (cnt_min_res < steps):\n",
    "    r_min_res = b - matrix_dot(A, x_prev_min_res, n)\n",
    "\n",
    "    tau = skalar_dot(matrix_dot(A, r_min_res, n), r_min_res, n) / (skalar_dot(matrix_dot(A, r_min_res, n), matrix_dot(A, r_min_res, n), n))\n",
    "\n",
    "    x_next_min_res = x_prev_min_res + tau * r_min_res\n",
    "\n",
    "    resid_min_res[cnt_min_res] = vec_norm(matrix_dot(A, x_next_min_res, n) - b, n)\n",
    "    cnt_min_res += 1\n",
    "\n",
    "    x_prev_min_res = x_next_min_res\n",
    "\n",
    "print_matrix(\"x_min_res\", x_next_min_res, n, 1)\n",
    "print(\"MINRES residual:\", vec_norm(matrix_dot(A, x_next_min_res, n) - b, n) )"
   ]
  },
  {
   "cell_type": "markdown",
   "id": "27c2b86c-ef55-4752-8bef-013bc3f1b18c",
   "metadata": {},
   "source": [
    "В конце построим графики логарифма нормы невязки от числа итераций для сравнения скоростей сходимости примененных методов."
   ]
  },
  {
   "cell_type": "code",
   "execution_count": 11,
   "id": "010efc1b-7bab-4c0f-851b-508fe328abd2",
   "metadata": {},
   "outputs": [
    {
     "data": {
      "image/png": "[encoded data removed]",
      "text/plain": [
       "<Figure size 700x1000 with 1 Axes>"
      ]
     },
     "metadata": {},
     "output_type": "display_data"
    }
   ],
   "source": [
    "x_axis = np.zeros(steps)\n",
    "for i in range(steps):\n",
    "    x_axis[i] = i\n",
    "\n",
    "fig = plt.figure(figsize=(7, 10))\n",
    "plot = fig.add_subplot()\n",
    "\n",
    "plot.plot(x_axis, np.log2(resid_yak    ),label = r'$Yakobi   $')\n",
    "plot.plot(x_axis, np.log2(resid_zeid   ),label = r'$Zeidel   $')\n",
    "plot.plot(x_axis, np.log2(resid_relax  ),label = r'$Relax    $')\n",
    "plot.plot(x_axis, np.log2(resid_down   ),label = r'$Grad_down$')\n",
    "plot.plot(x_axis, np.log2(resid_grad   ),label = r'$Grad     $')\n",
    "plot.plot(x_axis, np.log2(resid_min_res),label = r'$MINRES   $')\n",
    "\n",
    "#plot.set(xlim=(-1, 5), ylim=(-0.5, 3))\n",
    "plot.set_xlabel(' n ')\n",
    "plot.set_ylabel('log2(residual)')\n",
    "plot.legend(loc='best', fontsize=12)\n",
    "plt.show()"
   ]
  },
  {
   "cell_type": "markdown",
   "id": "3218c4b8-822b-42fb-b26f-e48f48fb2880",
   "metadata": {},
   "source": [
    "# Выводы\n",
    "В данной лабораторной работе мы ознакомились на практике с численными методами решения СЛАУ: как прямыми, так и итерационными. Были рассмотрены методы Гаусса с выбором главного элемента, LU-разложение, Якоби, Зейделя, верхней релаксации, градиентного спуска, сопряженных градиентов и минимальных невязок. Построение графиков подтвердило ожидания по скорости для методов Якоби, Зейделя, верхней релаксации и сопряженных градиентов. Методы же градиентоного спуска и минимальных невязок оказались неэффективными для данной системы (их спад самый медленный)."
   ]
  }
 ],
 "metadata": {
  "kernelspec": {
   "display_name": "Python 3 (ipykernel)",
   "language": "python",
   "name": "python3"
  },
  "language_info": {
   "codemirror_mode": {
    "name": "ipython",
    "version": 3
   },
   "file_extension": ".py",
   "mimetype": "text/x-python",
   "name": "python",
   "nbconvert_exporter": "python",
   "pygments_lexer": "ipython3",
   "version": "3.8.10"
  }
 },
 "nbformat": 4,
 "nbformat_minor": 5
}
